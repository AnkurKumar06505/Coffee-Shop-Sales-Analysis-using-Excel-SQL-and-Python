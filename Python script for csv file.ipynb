{
 "cells": [
  {
   "cell_type": "code",
   "execution_count": 1,
   "id": "44e522a1-dc3d-4c9b-adda-ae98dfed9475",
   "metadata": {},
   "outputs": [],
   "source": [
    "import pandas as pd\n",
    "import mysql.connector\n",
    "\n",
    "def get_sql_type(dtype):\n",
    "    if pd.api.types.is_integer_dtype(dtype):\n",
    "        return 'INT'\n",
    "    elif pd.api.types.is_float_dtype(dtype):\n",
    "        return 'FLOAT'\n",
    "    elif pd.api.types.is_bool_dtype(dtype):\n",
    "        return 'BOOLEAN'\n",
    "    elif pd.api.types.is_datetime64_any_dtype(dtype):\n",
    "        return 'DATETIME'\n",
    "    else:\n",
    "        return 'TEXT'"
   ]
  },
  {
   "cell_type": "code",
   "execution_count": 2,
   "id": "e617cc40-865e-4a1e-ac1c-0532454181c3",
   "metadata": {},
   "outputs": [],
   "source": [
    "# Define the file path and table name\n",
    "file_path = r'C:\\Another drive\\Career\\Data Scientist\\Integrated_Projects\\sql,excel,pyhon Coffee Shop Sales Analysis\\CoffeeShop.csv'\n",
    "table_name = 'coffee_shop_sales'\n",
    "\n",
    "# MySQL connection details\n",
    "conn = mysql.connector.connect(\n",
    "    host='localhost',\n",
    "    user='root',\n",
    "    password='06505',\n",
    "    database='Coffee_shop_Sales_Analysis'  # Your specified database name\n",
    ")\n",
    "\n",
    "cursor = conn.cursor()\n"
   ]
  },
  {
   "cell_type": "code",
   "execution_count": 3,
   "id": "b0bf1032-6734-44a6-848e-a76cb7a38b05",
   "metadata": {},
   "outputs": [],
   "source": [
    "# Reading the CSV file into a pandas DataFrame\n",
    "df = pd.read_csv(file_path)\n",
    "\n",
    "# Replacing NaN with None to handle SQL NULL\n",
    "df = df.where(pd.notnull(df), None)\n",
    "\n",
    "# Cleaning column names\n",
    "df.columns = [col.replace(' ', '_').replace('-', '_').replace('.', '_') for col in df.columns]\n"
   ]
  },
  {
   "cell_type": "code",
   "execution_count": 4,
   "id": "55a1094b-b0e8-4c47-bdf4-a575becbd911",
   "metadata": {},
   "outputs": [],
   "source": [
    "# Generating the create table statement\n",
    "columns = ', '.join([f'`{col}` {get_sql_type(df[col].dtype)}' for col in df.columns])\n",
    "create_table_query = f'CREATE TABLE IF NOT EXISTS `{table_name}` ({columns})'\n",
    "cursor.execute(create_table_query)\n"
   ]
  },
  {
   "cell_type": "code",
   "execution_count": 5,
   "id": "567dccf9-45a2-4b17-b376-eb1c060bdff5",
   "metadata": {},
   "outputs": [],
   "source": [
    "# Inserting DataFrame data into the MySQL table\n",
    "for _, row in df.iterrows():\n",
    "    # Convert row to tuple and handle NaN/None explicitly\n",
    "    values = tuple(None if pd.isna(x) else x for x in row)\n",
    "    sql = f\"INSERT INTO `{table_name}` ({', '.join(['`' + col + '`' for col in df.columns])}) VALUES ({', '.join(['%s'] * len(row))})\"\n",
    "    cursor.execute(sql, values)\n",
    "\n",
    "# Commit the transaction\n",
    "conn.commit()\n",
    "# Close the connection\n",
    "cursor.close()\n",
    "conn.close()\n"
   ]
  },
  {
   "cell_type": "code",
   "execution_count": null,
   "id": "38e77a14-0336-43a5-a0ca-d90f772776b4",
   "metadata": {},
   "outputs": [],
   "source": []
  }
 ],
 "metadata": {
  "kernelspec": {
   "display_name": "Python 3 (ipykernel)",
   "language": "python",
   "name": "python3"
  },
  "language_info": {
   "codemirror_mode": {
    "name": "ipython",
    "version": 3
   },
   "file_extension": ".py",
   "mimetype": "text/x-python",
   "name": "python",
   "nbconvert_exporter": "python",
   "pygments_lexer": "ipython3",
   "version": "3.12.4"
  }
 },
 "nbformat": 4,
 "nbformat_minor": 5
}
